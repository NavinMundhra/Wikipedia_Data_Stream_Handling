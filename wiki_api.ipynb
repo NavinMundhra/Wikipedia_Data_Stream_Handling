{
  "nbformat": 4,
  "nbformat_minor": 0,
  "metadata": {
    "colab": {
      "name": "wiki_api.ipynb",
      "provenance": [],
      "collapsed_sections": [
        "xPr6wFwyCD6K"
      ],
      "authorship_tag": "ABX9TyMl3sBHw0Y5O+4sIDzKEFT8"
    },
    "kernelspec": {
      "name": "python3",
      "display_name": "Python 3"
    }
  },
  "cells": [
    {
      "cell_type": "code",
      "metadata": {
        "colab": {
          "base_uri": "https://localhost:8080/"
        },
        "id": "eSKi1JDCLPEF",
        "outputId": "960019da-9005-4f4b-dccb-9019b5deb71b"
      },
      "source": [
        "import datetime\r\n",
        "\r\n",
        "curr = datetime.datetime.now()\r\n",
        "later = curr + datetime.timedelta(minutes = -5)\r\n",
        "curr.isoformat(), later.isoformat()"
      ],
      "execution_count": null,
      "outputs": [
        {
          "output_type": "execute_result",
          "data": {
            "text/plain": [
              "('2021-02-03T18:47:57.972702', '2021-02-03T18:42:57.972702')"
            ]
          },
          "metadata": {
            "tags": []
          },
          "execution_count": 23
        }
      ]
    },
    {
      "cell_type": "code",
      "metadata": {
        "id": "VhQ0BV2VITGR"
      },
      "source": [
        "import requests\r\n",
        "MAX = 1000\r\n",
        "S = requests.Session()\r\n",
        "\r\n",
        "URL = \"https://en.wikipedia.org/w/api.php\"\r\n",
        "\r\n",
        "curr = datetime.datetime.now(); curr = curr.isoformat()\r\n",
        "later = curr + datetime.timedelta(minutes = -5); later = later.isoformat()\r\n",
        "\r\n",
        "PARAMS = {\r\n",
        "    \"rcstart\": curr.isoformat(),\r\n",
        "    \"rcend\": later.isoformat(),\r\n",
        "    \"format\": \"json\",\r\n",
        "    \"rcnamespace\": \"*\",\r\n",
        "    \"rcprop\": \"title|sizes|flags|user|timestamp\",\r\n",
        "    \"list\": \"recentchanges\",\r\n",
        "    \"action\": \"query\",\r\n",
        "    \"rclimit\": MAX,\r\n",
        "}\r\n",
        "\r\n",
        "R = S.get(url=URL, params=PARAMS)\r\n",
        "DATA = R.json()\r\n",
        "\r\n",
        "RECENTCHANGES = DATA['query']['recentchanges']\r\n",
        "\r\n",
        "print(\"current time: \", curr.isoformat(), \"later time: \", later.isoformat(), \"\\n\")\r\n",
        "\r\n",
        "i = 0\r\n",
        "for rc in RECENTCHANGES:\r\n",
        "    print(i, str(rc['title']), str(rc['timestamp']))\r\n",
        "    i+=1"
      ],
      "execution_count": null,
      "outputs": []
    },
    {
      "cell_type": "code",
      "metadata": {
        "id": "Pxexr0KVJT8a"
      },
      "source": [
        "import datetime, time\r\n",
        "from sseclient import SSEClient as EventSource\r\n",
        "import json\r\n",
        "from dateutil.parser import parse\r\n",
        "url = 'https://stream.wikimedia.org/v2/stream/recentchange'\r\n",
        "\r\n",
        "curr = datetime.datetime.now(); later = curr + datetime.timedelta(minutes = -5);  \r\n",
        "curr = curr.isoformat(); later = later.isoformat()\r\n",
        "\r\n",
        "for event in EventSource(url):\r\n",
        "    if event.event == 'message':\r\n",
        "        try:\r\n",
        "            change = json.loads(event.data)\r\n",
        "        except ValueError:\r\n",
        "            pass\r\n",
        "        else:\r\n",
        "            # print('{user} edited {title}'.format(**change))\r\n",
        "            # print(change['meta']['dt'])\r\n",
        "            # timee = parse(change['meta']['dt']); timee.isoformat()\r\n",
        "            # if(timee > later):\r\n",
        "            #     print('{user} edited {title}'.format(**change))\r\n",
        "            # else:\r\n",
        "            #     break\r\n",
        "            "
      ],
      "execution_count": null,
      "outputs": []
    },
    {
      "cell_type": "code",
      "metadata": {
        "colab": {
          "base_uri": "https://localhost:8080/"
        },
        "id": "Ato-H6Fx0xP0",
        "outputId": "eb454312-eade-48b8-d638-4f20fab64e54"
      },
      "source": [
        "curr.replace()"
      ],
      "execution_count": null,
      "outputs": [
        {
          "output_type": "execute_result",
          "data": {
            "text/plain": [
              "datetime.datetime(2021, 2, 4, 16, 13, 29, 326041)"
            ]
          },
          "metadata": {
            "tags": []
          },
          "execution_count": 15
        }
      ]
    },
    {
      "cell_type": "markdown",
      "metadata": {
        "id": "VlEjNl0JBujt"
      },
      "source": [
        "# Work"
      ]
    },
    {
      "cell_type": "markdown",
      "metadata": {
        "id": "20MHui4qKEC9"
      },
      "source": [
        "Links\r\n",
        "* https://wikitech.wikimedia.org/wiki/Event_Platform/EventStreams#Python"
      ]
    },
    {
      "cell_type": "code",
      "metadata": {
        "id": "dbMkAu6YBt97"
      },
      "source": [
        "pip install sseclient\r\n",
        "import datetime, time, json\r\n",
        "from sseclient import SSEClient as EventSource\r\n",
        "from dateutil.parser import parse"
      ],
      "execution_count": null,
      "outputs": []
    },
    {
      "cell_type": "markdown",
      "metadata": {
        "id": "DfjP-rvoJbeH"
      },
      "source": [
        "## TASK 01"
      ]
    },
    {
      "cell_type": "markdown",
      "metadata": {
        "id": "v9PWysKBBxdu"
      },
      "source": [
        "### Domains Report"
      ]
    },
    {
      "cell_type": "code",
      "metadata": {
        "id": "xB0AFx-buuVL"
      },
      "source": [
        "url = 'https://stream.wikimedia.org/v2/stream/revision-create'\r\n",
        "\r\n",
        "while(True):\r\n",
        "    count = 0\r\n",
        "    dictt = {}\r\n",
        "    curr = datetime.datetime.now();\r\n",
        "    for event in EventSource(url):\r\n",
        "        if event.event == 'message':\r\n",
        "            try:\r\n",
        "                change = json.loads(event.data)\r\n",
        "            except ValueError:\r\n",
        "                pass\r\n",
        "            else:\r\n",
        "                timee = parse(change['meta']['dt']); timee.isoformat()\r\n",
        "                timee = timee.replace(tzinfo = None)\r\n",
        "                if divmod(abs((curr - timee).total_seconds()), 60)[0] < float(1):\r\n",
        "                    count+=1\r\n",
        "                    if change['meta']['domain'] in dictt.keys():\r\n",
        "                        dictt[change['meta']['domain']] += 1\r\n",
        "                    else:\r\n",
        "                        dictt[change['meta']['domain']] = 1\r\n",
        "                else:\r\n",
        "                    break\r\n",
        "    print(\"\\ntotal changes count: \", count)\r\n",
        "    \r\n",
        "    sorted_dict = {}\r\n",
        "    sorted_keys = sorted(dictt, key=dictt.get, reverse=True)\r\n",
        "    for w in sorted_keys:\r\n",
        "        sorted_dict[w] = dictt[w]\r\n",
        "\r\n",
        "    for key in sorted_dict:\r\n",
        "        print(key, \": \", sorted_dict[key], \" pages updated\")\r\n"
      ],
      "execution_count": null,
      "outputs": []
    },
    {
      "cell_type": "markdown",
      "metadata": {
        "id": "xPr6wFwyCD6K"
      },
      "source": [
        "### Users Report"
      ]
    },
    {
      "cell_type": "code",
      "metadata": {
        "id": "AL6ljAPZBKWH"
      },
      "source": [
        "url = 'https://stream.wikimedia.org/v2/stream/revision-create'\r\n",
        "count = 0\r\n",
        "while(True):\r\n",
        "    dictt = {}\r\n",
        "    curr = datetime.datetime.now();\r\n",
        "    for event in EventSource(url):\r\n",
        "        if event.event == 'message':\r\n",
        "            try:\r\n",
        "                change = json.loads(event.data)\r\n",
        "            except ValueError:\r\n",
        "                pass\r\n",
        "            else:\r\n",
        "                try:\r\n",
        "                    if change['meta']['domain'] != \"en.wikipedia.org\" or change['performer']['user_is_bot']:\r\n",
        "                        continue\r\n",
        "                    timee = parse(change['meta']['dt']); timee.isoformat()\r\n",
        "                    timee = timee.replace(tzinfo = None)\r\n",
        "                    if divmod(abs((curr - timee).total_seconds()), 10)[0] < float(1):\r\n",
        "                        if change['performer']['user_text'] in dictt.keys():\r\n",
        "                            max(dictt[change['performer']['user_text']], change['performer']['user_edit_count'])\r\n",
        "                        else:\r\n",
        "                            dictt[change['performer']['user_text']] = change['performer']['user_edit_count']\r\n",
        "                    else:\r\n",
        "                        break\r\n",
        "                except KeyError:\r\n",
        "                    dictt[change['performer']['user_text']] = -1\r\n",
        "                    print(\"anonymous IP address received\")\r\n",
        "\r\n",
        "    sorted_dict = {}\r\n",
        "    sorted_keys = sorted(dictt, key=dictt.get, reverse=True)\r\n",
        "    for w in sorted_keys:\r\n",
        "        sorted_dict[w] = dictt[w]\r\n",
        "    print(count, ' minute')\r\n",
        "    count+=1\r\n",
        "    for key in sorted_dict:\r\n",
        "        print(key, \": \", sorted_dict[key])\r\n"
      ],
      "execution_count": null,
      "outputs": []
    },
    {
      "cell_type": "markdown",
      "metadata": {
        "id": "G9jLICDVKN97"
      },
      "source": [
        "## Bonus Task"
      ]
    },
    {
      "cell_type": "code",
      "metadata": {
        "id": "quSKOXbWKQzn"
      },
      "source": [
        ""
      ],
      "execution_count": null,
      "outputs": []
    }
  ]
}